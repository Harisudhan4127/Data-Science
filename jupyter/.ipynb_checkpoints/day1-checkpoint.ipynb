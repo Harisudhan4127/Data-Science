{
 "cells": [
  {
   "cell_type": "code",
   "execution_count": 8,
   "id": "246ff321-46f9-443a-a9cd-3b2930d39a5b",
   "metadata": {
    "panel-layout": {
     "height": 0,
     "visible": true,
     "width": 100
    }
   },
   "outputs": [
    {
     "name": "stdout",
     "output_type": "stream",
     "text": [
      "salt box : 100g\n"
     ]
    }
   ],
   "source": [
    "salt = \"100g\"\n",
    "print(f\"salt box : {salt}\")"
   ]
  },
  {
   "cell_type": "code",
   "execution_count": 4,
   "id": "1f5df254-586a-4a6e-be7d-9719230b1409",
   "metadata": {
    "panel-layout": {
     "height": 0,
     "visible": true,
     "width": 100
    },
    "scrolled": true
   },
   "outputs": [
    {
     "name": "stdout",
     "output_type": "stream",
     "text": [
      "[2, 8]\n"
     ]
    }
   ],
   "source": [
    "l1 = [1, 2, 3, 2, 31, 8,8]\n",
    "sn= set()\n",
    "dup = []\n",
    "\n",
    "for num in l1:\n",
    "    if num in sn:\n",
    "        dup.append(num)\n",
    "    else:\n",
    "        sn.add(num)\n",
    "\n",
    "print(dup)"
   ]
  },
  {
   "cell_type": "code",
   "execution_count": 3,
   "id": "0c4201b9-91cf-42f9-bd83-9e6c7b1683ce",
   "metadata": {
    "panel-layout": {
     "height": 0,
     "visible": true,
     "width": 100
    }
   },
   "outputs": [
    {
     "name": "stdout",
     "output_type": "stream",
     "text": [
      "{1, 2, 3, 4, 5}\n"
     ]
    }
   ],
   "source": [
    "num = [1,2,3,4,3,4,5]\n",
    "result= set()\n",
    "for item in num :\n",
    "    result.add(item)\n",
    "print(result)"
   ]
  },
  {
   "cell_type": "code",
   "execution_count": 9,
   "id": "dc923758-2fa9-46b3-8dbb-17543a8214ab",
   "metadata": {
    "panel-layout": {
     "height": 0,
     "visible": true,
     "width": 100
    }
   },
   "outputs": [
    {
     "name": "stdout",
     "output_type": "stream",
     "text": [
      "550 ['science']\n"
     ]
    }
   ],
   "source": [
    "book_shop = {\"science\" : 450, \"Maths\": 550, \"social\":500}\n",
    "print(book_shop[\"Maths\"])"
   ]
  },
  {
   "cell_type": "code",
   "execution_count": 1,
   "id": "147a249f-b286-41b0-9724-901028a71d1e",
   "metadata": {
    "panel-layout": {
     "height": 0,
     "visible": true,
     "width": 100
    }
   },
   "outputs": [
    {
     "name": "stdout",
     "output_type": "stream",
     "text": [
      "<class 'set'>\n"
     ]
    }
   ],
   "source": [
    "set1= set()\n",
    "print(type(set1))"
   ]
  },
  {
   "cell_type": "code",
   "execution_count": 17,
   "id": "2a1ff89e-0293-4ee2-a522-9668ad034e59",
   "metadata": {
    "panel-layout": {
     "height": 0,
     "visible": true,
     "width": 100
    }
   },
   "outputs": [
    {
     "name": "stdout",
     "output_type": "stream",
     "text": [
      "3\n",
      "4\n",
      "5\n",
      "6\n"
     ]
    }
   ],
   "source": [
    "def add(a,b):\n",
    "    print(a+b)\n",
    "add(1,2)\n",
    "add(1,3)\n",
    "add(1,4)\n",
    "add(1,5)"
   ]
  },
  {
   "cell_type": "code",
   "execution_count": null,
   "id": "1c6957b0-5d75-4b93-829a-9017c6b6d71d",
   "metadata": {},
   "outputs": [],
   "source": [
    "def add(a,b):\n",
    "    return a+b \n",
    "def sub(a,b):\n",
    "    return a-b\n",
    "def mul(a,b):\n",
    "    return a*b\n",
    "def div(a,b):\n",
    "    return a/b\n",
    "    \n",
    "print(\"1. add\\n2. sub\\n3. multi\\n4. div\")\n",
    "option = int(input(\"Enter the option : \"))\n",
    "num1 = int(input(\"Enter the no1 : \"))\n",
    "num2 = int(input(\"Enter the no2 : \"))\n",
    "\n",
    "if option == 1:\n",
    "    print(add(num1,num2))\n",
    "elif option ==2 :\n",
    "    print(sub(num1,num2))\n",
    "elif option ==3:\n",
    "    print(mul(num1,num2))\n",
    "elif option ==4:\n",
    "    print(div(num1,num2))\n",
    "else:\n",
    "    print(\"Erro : incorrect option\")"
   ]
  },
  {
   "cell_type": "code",
   "execution_count": null,
   "id": "346cf9d3-f367-447e-ac55-ef21fa0bad57",
   "metadata": {},
   "outputs": [],
   "source": []
  }
 ],
 "metadata": {
  "kernelspec": {
   "display_name": "Python 3 (ipykernel)",
   "language": "python",
   "name": "python3"
  },
  "language_info": {
   "codemirror_mode": {
    "name": "ipython",
    "version": 3
   },
   "file_extension": ".py",
   "mimetype": "text/x-python",
   "name": "python",
   "nbconvert_exporter": "python",
   "pygments_lexer": "ipython3",
   "version": "3.12.7"
  },
  "panel-cell-order": [
   "246ff321-46f9-443a-a9cd-3b2930d39a5b",
   "1f5df254-586a-4a6e-be7d-9719230b1409",
   "0c4201b9-91cf-42f9-bd83-9e6c7b1683ce",
   "dc923758-2fa9-46b3-8dbb-17543a8214ab",
   "147a249f-b286-41b0-9724-901028a71d1e",
   "2a1ff89e-0293-4ee2-a522-9668ad034e59"
  ]
 },
 "nbformat": 4,
 "nbformat_minor": 5
}
