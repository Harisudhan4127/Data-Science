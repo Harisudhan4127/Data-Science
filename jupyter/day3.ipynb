{
 "cells": [
  {
   "cell_type": "code",
   "execution_count": 6,
   "id": "6f3045a8-9c42-4af5-b2d5-3ea21fe34d95",
   "metadata": {},
   "outputs": [
    {
     "name": "stdout",
     "output_type": "stream",
     "text": [
      "    id         name  class\n",
      "0    1     John Deo   Four\n",
      "1    2     Max Ruin  Three\n",
      "2    3       Arnold  Three\n",
      "3    4   Krish Star   Four\n",
      "4    5    John Mike   Four\n",
      "5    6    Alex John   Four\n",
      "6    7  My John Rob  Fifth\n",
      "7    8       Asruid   Five\n",
      "8    9      Tes Qry    Six\n",
      "9   10     Big John   Four\n",
      "10  11       Ronald    Six\n",
      "11  12        Recky    Six\n",
      "12  13          Kty  Seven\n",
      "13  14         Bigy  Seven\n",
      "14  15     Tade Row   Four\n",
      "15  16        Gimmy   Four\n",
      "16  17        Tumyu    Six\n",
      "17  18        Honny   Five\n",
      "18  19        Tinny   Nine\n",
      "19  20       Jackly   Nine\n",
      "20  21   Babby John   Four\n",
      "21  22       Reggid  Seven\n",
      "22  23        Herod  Eight\n",
      "23  24    Tiddy Now  Seven\n",
      "24  25     Giff Tow  Seven\n",
      "25  26       Crelea  Seven\n",
      "26  27     Big Nose  Three\n",
      "27  28    Rojj Base  Seven\n",
      "28  29  Tess Played  Seven\n",
      "29  30    Reppy Red    Six\n",
      "30  31  Marry Toeey   Four\n",
      "31  32    Binn Rott  Seven\n",
      "32  33    Kenn Rein    Six\n",
      "33  34     Gain Toe  Seven\n",
      "34  35   Rows Noump    Six\n"
     ]
    }
   ],
   "source": [
    "import pandas as pd\n",
    "# csv -> comma separated value\n",
    "df = pd.read_csv(\"Data\\student.csv\")\n",
    "# print(df[\"name\"]) # colume to read\n",
    "# print(df[[\"id\",\"name\",\"class\"]]) \n",
    "print(df.iloc[1:4,0:2]) # Slicing function"
   ]
  },
  {
   "cell_type": "code",
   "execution_count": 12,
   "id": "e59e4e8c-8d08-4e7e-8d64-b5027adf0321",
   "metadata": {},
   "outputs": [
    {
     "name": "stdout",
     "output_type": "stream",
     "text": [
      "      id   name    age  location\n",
      "0  False   True  False     False\n",
      "1  False  False   True     False\n",
      "2  False  False  False      True\n",
      "3  False  False  False     False\n",
      "id          0\n",
      "name        1\n",
      "age         1\n",
      "location    1\n",
      "dtype: int64\n"
     ]
    }
   ],
   "source": [
    "import pandas as pd\n",
    "data = {\"id\": [1,2,3,4],\n",
    "        \"name\": [None,\"logeshwari\",\"loki\",\"logeshwaran\"],\n",
    "        \"age\": [18,None,31,99],\n",
    "        \"location\": [\"chennai\",\"Asgard\",None,\"vannarupettai\"],}\n",
    "df = pd.DataFrame(data)\n",
    "print(df.isnull())\n",
    "print(df.isnull().sum())"
   ]
  },
  {
   "cell_type": "code",
   "execution_count": 21,
   "id": "ab193740-bf1b-44b4-bc43-5472e7f1023c",
   "metadata": {
    "scrolled": true
   },
   "outputs": [
    {
     "name": "stdout",
     "output_type": "stream",
     "text": [
      "   id          name   age       location\n",
      "0   1  Unidentified  18.0        chennai\n",
      "1   2    logeshwari   NaN         Asgard\n",
      "2   3          loki  31.0           None\n",
      "3   4   logeshwaran  99.0  vannarupettai\n"
     ]
    }
   ],
   "source": [
    "import pandas as pd\n",
    "data = {\"id\": [1,2,3,4],\n",
    "        \"name\": [None,\"logeshwari\",\"loki\",\"logeshwaran\"],\n",
    "        \"age\": [18,None,31,99],\n",
    "        \"location\": [\"chennai\",\"Asgard\",None,\"vannarupettai\"],}\n",
    "df = pd.DataFrame(data)\n",
    "df[\"name\"] = df[\"name\"].fillna(\"Unidentified\")\n",
    "df[\"location\"].dropna(inplace= True)\n",
    "print(df)"
   ]
  },
  {
   "cell_type": "code",
   "execution_count": 16,
   "id": "e6ccce73-2bc2-4ff7-9f7e-02636e21e53b",
   "metadata": {},
   "outputs": [
    {
     "name": "stdout",
     "output_type": "stream",
     "text": [
      "    cus_id        name  gender   age   location purchased\n",
      "0        1    John Deo  female  12.0      Pondy       yes\n",
      "1        2    Max Ruin    male  23.0    Chennai        no\n",
      "2        3         NaN    male  34.0      Pondy       yes\n",
      "3        4  Krish Star  female  45.0  Caddalore       yes\n",
      "4        5   John Mike  female  43.0        NaN       yes\n",
      "5        6   Alex John    male  23.0    Chennai       yes\n",
      "6        7         NaN    male  12.0      Pondy       yes\n",
      "7        8      Asruid    male  21.0    Chennai       yes\n",
      "8        9     Tes Qry    male  22.0      Pondy        no\n",
      "9       10    Big John  female   NaN  Caddalore       yes\n",
      "10      11      Ronald  female  65.0  Caddalore       yes\n",
      "11      12       Recky  female  22.0        NaN       yes\n",
      "12      13         Kty  female  34.0    Chennai       yes\n",
      "13      14        Bigy  female  14.0      Pondy       yes\n",
      "14      15    Tade Row    male  16.0    Chennai        no\n",
      "15      16       Gimmy    male  12.0      Pondy       yes\n",
      "16      17       Tumyu    male  75.0        NaN       yes\n",
      "17      18       Honny    male  85.0  Caddalore       yes\n",
      "18      19       Tinny    male  55.0        NaN        no\n",
      "           cus_id\n",
      "purchased        \n",
      "no              4\n",
      "yes            15\n"
     ]
    }
   ],
   "source": [
    "import pandas as pd\n",
    "df = pd.read_csv(\"Student2.csv\")\n",
    "total_purchased = df.groupby(\"purchased\").agg({'cus_id' : 'count'})\n",
    "# name = df[\"name\"].sort_values().values\n",
    "print(df)\n",
    "print(total_purchased)  "
   ]
  },
  {
   "cell_type": "code",
   "execution_count": 4,
   "id": "ae9ef719-b905-4503-88a7-0f786843f270",
   "metadata": {},
   "outputs": [
    {
     "name": "stdout",
     "output_type": "stream",
     "text": [
      "    id         name  gender        age\n",
      "0    1     John Deo  female  12.000000\n",
      "1    2     Max Ruin    male  23.000000\n",
      "2    3       Arnold    male  34.000000\n",
      "3    4   Krish Star  female  45.000000\n",
      "4    5    John Mike  female  43.000000\n",
      "5    6    Alex John    male  23.000000\n",
      "6    7  My John Rob    male  12.000000\n",
      "7    8       Asruid    male  21.000000\n",
      "8    9      Tes Qry    male  22.000000\n",
      "9   10     Big John  female  34.055556\n",
      "10  11       Ronald  female  65.000000\n",
      "11  12        Recky  female  22.000000\n",
      "12  13          Kty  female  34.000000\n",
      "13  14         Bigy  female  14.000000\n",
      "14  15     Tade Row    male  16.000000\n",
      "15  16        Gimmy    male  12.000000\n",
      "16  17        Tumyu    male  75.000000\n",
      "17  18        Honny    male  85.000000\n",
      "18  19        Tinny    male  55.000000\n"
     ]
    }
   ],
   "source": [
    "import pandas as pd\n",
    "df = pd.read_csv(\"Student2.csv\")\n",
    "df.fillna(df[\"age\"].mean(), inplace=True)\n",
    "print(df)"
   ]
  },
  {
   "cell_type": "code",
   "execution_count": 14,
   "id": "2e281b59-a7ae-488b-9a48-7953dd0dfe10",
   "metadata": {},
   "outputs": [
    {
     "name": "stdout",
     "output_type": "stream",
     "text": [
      "----------------------------------\n",
      "   user_id    sports      movie\n",
      "0        1  baseball     Avatar\n",
      "1        3   cricket  Prisoners\n",
      "2        4    hockey  Inception\n",
      "----------------------------------\n"
     ]
    }
   ],
   "source": [
    "import pandas as pd\n",
    "df1 = pd.read_csv(\"data_1.csv\")\n",
    "df2 = pd.read_csv(\"data_2.csv\")\n",
    "merge_df = pd.merge(df1,df2,on=\"user_id\")\n",
    "print(\"----------------------------------\")\n",
    "print(merge_df)\n",
    "print(\"----------------------------------\")"
   ]
  },
  {
   "cell_type": "code",
   "execution_count": 22,
   "id": "40097979-6c27-4727-99f6-987cfe4a91b2",
   "metadata": {},
   "outputs": [
    {
     "name": "stdout",
     "output_type": "stream",
     "text": [
      "----------------------------------\n",
      "    user_id    sports      movie\n",
      "0        1  baseball     Avatar\n",
      "1        3   cricket  Prisoners\n",
      "2        4    hockey  Inception\n",
      "----------------------------------\n",
      "    user_id    sports      movie\n",
      "0        1  baseball     Avatar\n",
      "1        2  football        NaN\n",
      "2        3   cricket  Prisoners\n",
      "3        4    hockey  Inception\n",
      "----------------------------------\n",
      "    user_id    sports      movie\n",
      "0        1  baseball     Avatar\n",
      "1        3   cricket  Prisoners\n",
      "2        4    hockey  Inception\n",
      "3        5       NaN     Raayan\n",
      "----------------------------------\n",
      "    user_id    sports      movie\n",
      "0        1  baseball     Avatar\n",
      "1        2  football        NaN\n",
      "2        3   cricket  Prisoners\n",
      "3        4    hockey  Inception\n",
      "4        5       NaN     Raayan\n"
     ]
    }
   ],
   "source": [
    "merge_df = pd.merge(df1,df2,on=\"user_id\")\n",
    "print(\"----------------------------------\\n\",merge_df)\n",
    "merge_df = pd.merge(df1,df2,on=\"user_id\", how='left')\n",
    "print(\"----------------------------------\\n\",merge_df)\n",
    "merge_df = pd.merge(df1,df2,on=\"user_id\", how= 'right')\n",
    "print(\"----------------------------------\\n\",merge_df)\n",
    "merge_df = pd.merge(df1,df2,on=\"user_id\",how='outer')\n",
    "print(\"----------------------------------\\n\",merge_df)"
   ]
  },
  {
   "cell_type": "code",
   "execution_count": null,
   "id": "4b9b6ecb-5c2e-4354-9d5b-0c52f45cfe79",
   "metadata": {},
   "outputs": [],
   "source": []
  }
 ],
 "metadata": {
  "kernelspec": {
   "display_name": "Python 3 (ipykernel)",
   "language": "python",
   "name": "python3"
  },
  "language_info": {
   "codemirror_mode": {
    "name": "ipython",
    "version": 3
   },
   "file_extension": ".py",
   "mimetype": "text/x-python",
   "name": "python",
   "nbconvert_exporter": "python",
   "pygments_lexer": "ipython3",
   "version": "3.12.7"
  }
 },
 "nbformat": 4,
 "nbformat_minor": 5
}
