{
 "cells": [
  {
   "cell_type": "code",
   "execution_count": 1,
   "id": "0dac5c70-b4c3-4b47-95ad-936e52fbf301",
   "metadata": {},
   "outputs": [
    {
     "name": "stdout",
     "output_type": "stream",
     "text": [
      "[ 6 14 24 36  0]\n",
      "Array size :  5\n",
      "arrays dimention :  1\n",
      "[[3 4 5]\n",
      " [7 8 9]\n",
      " [1 2 6]]\n",
      "8\n"
     ]
    }
   ],
   "source": [
    "import numpy as np\n",
    "arr = np.array([1,2,3,4,5])\n",
    "arr1 = np.array([1,2,3,4,5])\n",
    "arr2 = np.array([6,7,8,9,0])\n",
    "arr_2d = np.array([[3,4,5],\n",
    "                   [7,8,9],\n",
    "                   [1,2,6]])\n",
    "print(arr1 * arr2)\n",
    "print(\"Array size : \", arr.size)\n",
    "print(\"arrays dimention : \", arr.ndim)\n",
    "print(arr_2d)\n",
    "print(arr_2d[1,1])"
   ]
  },
  {
   "cell_type": "code",
   "execution_count": 5,
   "id": "9cdf0c7b-8977-4543-95bd-35b020d724fc",
   "metadata": {},
   "outputs": [
    {
     "name": "stdout",
     "output_type": "stream",
     "text": [
      "[20 40 60]\n",
      "[10 20 30 40 50 60 70]\n",
      "[10 30 50 70 90]\n",
      "[20 30 40 50 60 70 80 90]\n"
     ]
    }
   ],
   "source": [
    "# Slicing function in NumPy\n",
    "import numpy as np \n",
    "arr = np.array([10,20,30,40,50,60,70,80,90])\n",
    "print(arr[1:7:2])\n",
    "print(arr[:7:]) #only end\n",
    "print(arr[::2]) #only step\n",
    "print(arr[1::],\"\\n\") #only start\n",
    "M = np.array([[3,4,5],\n",
    "              [7,8,9],\n",
    "              [1,2,6]])\n",
    "print(M[1:3,1:3]) # [R,C] R-> 1:3 = 1,2 | C-> 1:3 = 1,2"
   ]
  },
  {
   "cell_type": "code",
   "execution_count": 6,
   "id": "7b39e756-e791-49f3-bb3d-8e482f94c0a6",
   "metadata": {},
   "outputs": [
    {
     "name": "stdout",
     "output_type": "stream",
     "text": [
      "Using astype : [ 7  9 11 13  5]\n",
      "[ True False  True]\n"
     ]
    }
   ],
   "source": [
    "# Data type One data type to another data type\n",
    "import numpy as np \n",
    "arr1 = np.array([1,2.4,3,4,5])\n",
    "arr2 = np.array([6,7,8,9,0])\n",
    "arr = arr1 + arr2\n",
    "# print(\"Normal :\",arr)\n",
    "print(\"Using astype :\",arr.astype('i')) # float to int\n",
    "a = np.array([1,0,3])\n",
    "print(a.astype(bool)) # int to boolean"
   ]
  },
  {
   "cell_type": "code",
   "execution_count": 7,
   "id": "a6346740-831a-44a7-a051-c902bb1efc38",
   "metadata": {},
   "outputs": [
    {
     "name": "stdout",
     "output_type": "stream",
     "text": [
      "[10 20 30 40 50 60 70 80 90]\n",
      "[  0.  50. 100.]\n"
     ]
    }
   ],
   "source": [
    "import numpy as np \n",
    "range_arr = np.arange(10,100,10)\n",
    "print(range_arr)\n",
    "\n",
    "lin_arr = np.linspace(0,100,3)\n",
    "print(lin_arr)"
   ]
  },
  {
   "cell_type": "code",
   "execution_count": 8,
   "id": "ba2d0347-4299-465e-9431-c3abf99d3f9f",
   "metadata": {},
   "outputs": [
    {
     "name": "stdout",
     "output_type": "stream",
     "text": [
      "[10 20 30 40 50 60 70 80 90]\n",
      "[ 10.  20.  30.  40.  50.  60.  70.  80.  90. 100.]\n"
     ]
    }
   ],
   "source": [
    "import numpy as np \n",
    "range_arr = np.arange(10,100,10)\n",
    "print(range_arr)\n",
    "\n",
    "lin_arr = np.linspace(10,100,10) # Divid equal parts \n",
    "print(lin_arr)"
   ]
  },
  {
   "cell_type": "code",
   "execution_count": 1,
   "id": "547875c8-72bf-444a-af80-438b0e5c75c8",
   "metadata": {},
   "outputs": [
    {
     "name": "stdout",
     "output_type": "stream",
     "text": [
      "   id         name  age       location        Status\n",
      "0   1   logeshwari   18        chennai     Housewife\n",
      "1   2    kanagaraj   31  vannarupettai      Director\n",
      "2   3         loki  999         Asgard  God of story\n",
      "3   4  logeshwaran   99  vannarupettai           VIP\n"
     ]
    }
   ],
   "source": [
    "import pandas as pd\n",
    "import numpy as np\n",
    "# df = pd.read_csv(\"day2/sample.csv\")\n",
    "# print(df)\n",
    "arr = np.array([[1,2,3],\n",
    "                [4,5,6]])\n",
    "data = {\"id\": [1,2,3,4],\n",
    "      \"name\": [\"logeshwari\",\"kanagaraj\",\"loki\",\"logeshwaran\"],\n",
    "      \"age\": [18,31,999,99],\n",
    "      \"location\": [\"chennai\",\"vannarupettai\",\"Asgard\",\"vannarupettai\"],\n",
    "      \"Status\": [\"Housewife\",\"Director\",\"God of story\",\"VIP\"]}\n",
    "df = pd.DataFrame(data)\n",
    "print(df)"
   ]
  },
  {
   "cell_type": "code",
   "execution_count": null,
   "id": "d95266d8-c31c-49e0-81b7-b69e167879c8",
   "metadata": {},
   "outputs": [],
   "source": []
  }
 ],
 "metadata": {
  "kernelspec": {
   "display_name": "Python 3 (ipykernel)",
   "language": "python",
   "name": "python3"
  },
  "language_info": {
   "codemirror_mode": {
    "name": "ipython",
    "version": 3
   },
   "file_extension": ".py",
   "mimetype": "text/x-python",
   "name": "python",
   "nbconvert_exporter": "python",
   "pygments_lexer": "ipython3",
   "version": "3.12.7"
  }
 },
 "nbformat": 4,
 "nbformat_minor": 5
}
